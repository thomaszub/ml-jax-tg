{
 "cells": [
  {
   "cell_type": "code",
   "execution_count": 1,
   "metadata": {},
   "outputs": [],
   "source": [
    "import jax\n",
    "import jax.numpy as jnp\n",
    "import equinox as eqx\n",
    "import optax"
   ]
  },
  {
   "cell_type": "code",
   "execution_count": 4,
   "metadata": {},
   "outputs": [],
   "source": [
    "class RNN(eqx.Module):\n",
    "    hidden_size: int\n",
    "    cell: eqx.nn.LSTMCell\n",
    "    linear: eqx.nn.Linear\n",
    "\n",
    "    def __init__(self, input_size, hidden_size, out_size, key):\n",
    "        ckey, lkey = jax.random.split(key)\n",
    "        self.hidden_size = hidden_size\n",
    "        self.cell = eqx.nn.LSTMCell(\n",
    "            input_size=input_size, hidden_size=hidden_size, key=ckey\n",
    "        )\n",
    "        self.linear = eqx.nn.Linear(hidden_size, out_size, key=lkey)\n",
    "\n",
    "    def __call__(self, x):\n",
    "        hidden = jnp.zeros((self.hidden_size,))\n",
    "\n",
    "        def f(hid, inp):\n",
    "            return self.cell(inp, hid), None\n",
    "\n",
    "        out, _ = jax.lax.scan(f, hidden, x)\n",
    "        return jax.nn.sigmoid(self.linear(out))"
   ]
  },
  {
   "cell_type": "code",
   "execution_count": 2,
   "metadata": {},
   "outputs": [
    {
     "data": {
      "text/plain": [
       "Array([0., 0., 0., 0., 0.], dtype=float32)"
      ]
     },
     "execution_count": 2,
     "metadata": {},
     "output_type": "execute_result"
    }
   ],
   "source": [
    "hidden_size = 5\n",
    "hidden = jnp.zeros((hidden_size,))\n",
    "hidden"
   ]
  },
  {
   "cell_type": "code",
   "execution_count": 6,
   "metadata": {},
   "outputs": [
    {
     "data": {
      "text/plain": [
       "RNN(\n",
       "  hidden_size=4,\n",
       "  cell=LSTMCell(\n",
       "    weight_ih=f32[16,2],\n",
       "    weight_hh=f32[16,4],\n",
       "    bias=f32[16],\n",
       "    input_size=2,\n",
       "    hidden_size=4,\n",
       "    use_bias=True\n",
       "  ),\n",
       "  linear=Linear(\n",
       "    weight=f32[1,4],\n",
       "    bias=f32[1],\n",
       "    in_features=4,\n",
       "    out_features=1,\n",
       "    use_bias=True\n",
       "  )\n",
       ")"
      ]
     },
     "execution_count": 6,
     "metadata": {},
     "output_type": "execute_result"
    }
   ],
   "source": [
    "model = RNN(2, 4, 1, jax.random.PRNGKey(42))\n",
    "model"
   ]
  },
  {
   "cell_type": "code",
   "execution_count": null,
   "metadata": {},
   "outputs": [],
   "source": []
  }
 ],
 "metadata": {
  "kernelspec": {
   "display_name": ".venv",
   "language": "python",
   "name": "python3"
  },
  "language_info": {
   "codemirror_mode": {
    "name": "ipython",
    "version": 3
   },
   "file_extension": ".py",
   "mimetype": "text/x-python",
   "name": "python",
   "nbconvert_exporter": "python",
   "pygments_lexer": "ipython3",
   "version": "3.12.4"
  }
 },
 "nbformat": 4,
 "nbformat_minor": 2
}
