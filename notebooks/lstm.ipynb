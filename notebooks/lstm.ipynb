{
 "cells": [
  {
   "cell_type": "code",
   "execution_count": null,
   "metadata": {},
   "outputs": [],
   "source": [
    "import math\n",
    "import jax\n",
    "import jax.numpy as jnp\n",
    "import equinox as eqx\n",
    "import optax\n",
    "import matplotlib.pyplot as plt"
   ]
  },
  {
   "cell_type": "code",
   "execution_count": null,
   "metadata": {},
   "outputs": [],
   "source": [
    "class RNN(eqx.Module):\n",
    "    hidden_size: int\n",
    "    cell: eqx.nn.LSTMCell\n",
    "    linear: eqx.nn.Linear\n",
    "\n",
    "    def __init__(self, input_size, hidden_size, out_size, key):\n",
    "        ckey, lkey = jax.random.split(key)\n",
    "        self.hidden_size = hidden_size\n",
    "        self.cell = eqx.nn.LSTMCell(\n",
    "            input_size=input_size, hidden_size=hidden_size, key=ckey\n",
    "        )\n",
    "        self.linear = eqx.nn.Linear(hidden_size, out_size, key=lkey)\n",
    "\n",
    "    def __call__(self, x):\n",
    "        hidden = jnp.zeros((self.hidden_size,))\n",
    "\n",
    "        def f(hid, inp):\n",
    "            return self.cell(inp, hid), None\n",
    "\n",
    "        out, _ = jax.lax.scan(f, hidden, x)\n",
    "        return self.linear(out)"
   ]
  },
  {
   "cell_type": "code",
   "execution_count": null,
   "metadata": {},
   "outputs": [],
   "source": [
    "hidden_size = 5\n",
    "hidden = jnp.zeros((hidden_size,))\n",
    "hidden"
   ]
  },
  {
   "cell_type": "code",
   "execution_count": null,
   "metadata": {},
   "outputs": [],
   "source": [
    "model = RNN(input_size=1, hidden_size=4, out_size=1, key=jax.random.PRNGKey(42))\n",
    "model"
   ]
  },
  {
   "cell_type": "code",
   "execution_count": null,
   "metadata": {},
   "outputs": [],
   "source": [
    "t = jnp.linspace(0.0, 1.0, 30)\n",
    "y = jnp.linspace(1.0, 2.0, 50)\n",
    "x = jnp.sin(2.0 * math.pi * jnp.matmul(y.reshape((-1, 1)), t.reshape((1, -1))))"
   ]
  },
  {
   "cell_type": "code",
   "execution_count": null,
   "metadata": {},
   "outputs": [],
   "source": [
    "plt.plot(t, x[0])\n",
    "plt.plot(t, x[-1])"
   ]
  },
  {
   "cell_type": "code",
   "execution_count": null,
   "metadata": {},
   "outputs": [],
   "source": []
  }
 ],
 "metadata": {
  "kernelspec": {
   "display_name": ".venv",
   "language": "python",
   "name": "python3"
  },
  "language_info": {
   "codemirror_mode": {
    "name": "ipython",
    "version": 3
   },
   "file_extension": ".py",
   "mimetype": "text/x-python",
   "name": "python",
   "nbconvert_exporter": "python",
   "pygments_lexer": "ipython3",
   "version": "3.12.4"
  }
 },
 "nbformat": 4,
 "nbformat_minor": 2
}
