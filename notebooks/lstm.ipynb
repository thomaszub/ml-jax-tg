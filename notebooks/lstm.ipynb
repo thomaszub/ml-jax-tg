{
 "cells": [
  {
   "cell_type": "code",
   "execution_count": null,
   "metadata": {},
   "outputs": [],
   "source": [
    "import math\n",
    "import jax\n",
    "import jax.numpy as jnp\n",
    "import equinox as eqx\n",
    "import optax\n",
    "import matplotlib.pyplot as plt"
   ]
  },
  {
   "cell_type": "code",
   "execution_count": null,
   "metadata": {},
   "outputs": [],
   "source": [
    "t = jnp.linspace(0.0, 1.0, 120)\n",
    "y = jnp.stack((jnp.linspace(1.0, 3.0, 50), jnp.linspace(4.0, 6.0, 50))).reshape(-1, 1)\n",
    "x = jnp.sin(2.0 * math.pi * jnp.matmul(y, t.reshape((1, -1)))).reshape(-1, t.shape[0], 1)"
   ]
  },
  {
   "cell_type": "code",
   "execution_count": null,
   "metadata": {},
   "outputs": [],
   "source": [
    "class RNN(eqx.Module):\n",
    "    hidden_size: int\n",
    "    cell: eqx.nn.LSTMCell\n",
    "    linear: eqx.nn.Linear\n",
    "\n",
    "    def __init__(self, input_size, hidden_size, out_size, key):\n",
    "        ckey, lkey = jax.random.split(key)\n",
    "        self.hidden_size = hidden_size\n",
    "        self.cell = eqx.nn.LSTMCell(\n",
    "            input_size=input_size, hidden_size=hidden_size, key=ckey\n",
    "        )\n",
    "        self.linear = eqx.nn.Linear(hidden_size, out_size, key=lkey)\n",
    "\n",
    "    def __call__(self, x):\n",
    "        hidden_cell = (jnp.zeros(self.hidden_size), jnp.zeros(self.hidden_size))\n",
    "        def fn(hid_cell, inp):\n",
    "            return self.cell(inp, hid_cell), None\n",
    "\n",
    "        (h, _), _ = jax.lax.scan(fn, hidden_cell, x)\n",
    "        return self.linear(h)"
   ]
  },
  {
   "cell_type": "code",
   "execution_count": null,
   "metadata": {},
   "outputs": [],
   "source": [
    "plt.plot(t, x[0])\n",
    "plt.plot(t, x[-1])"
   ]
  },
  {
   "cell_type": "code",
   "execution_count": null,
   "metadata": {},
   "outputs": [],
   "source": [
    "steps = 5000\n",
    "hidden_size = 12\n",
    "\n",
    "model = RNN(input_size=1, hidden_size=hidden_size, out_size=1, key=jax.random.PRNGKey(42))\n",
    "print(model)\n",
    "optim = optax.adam(1e-2)\n",
    "opt_state = optim.init(eqx.filter(model, eqx.is_array))\n",
    "\n",
    "@eqx.filter_value_and_grad\n",
    "def loss_fn(model, x, y):\n",
    "    pred = jax.vmap(model)(x)\n",
    "    return optax.losses.squared_error(pred, y).mean()\n",
    "\n",
    "@eqx.filter_jit\n",
    "def evolve(model, x, y, opt_state):\n",
    "    loss, grads = loss_fn(model, x, y)\n",
    "    updates, opt_state = optim.update(grads, opt_state)\n",
    "    model = eqx.apply_updates(model, updates)\n",
    "    return model, loss, opt_state\n",
    "\n",
    "for step in range(steps):\n",
    "    model, loss, opt_state = evolve(model, x, y, opt_state)\n",
    "    loss = loss.item()\n",
    "    print(f\"step={step}, loss={loss}\")"
   ]
  },
  {
   "cell_type": "code",
   "execution_count": null,
   "metadata": {},
   "outputs": [],
   "source": [
    "y_test = jnp.linspace(3.0, 4.0, 50).reshape(-1, 1)\n",
    "x_test = jnp.sin(2.0 * math.pi * jnp.matmul(y_test, t.reshape((1, -1)))).reshape(-1, t.shape[0], 1)\n",
    "\n",
    "loss_val, _ = loss_fn(model, x_test, y_test)\n",
    "print(f\"validation loss={loss_val}\")"
   ]
  },
  {
   "cell_type": "code",
   "execution_count": null,
   "metadata": {},
   "outputs": [],
   "source": []
  }
 ],
 "metadata": {
  "kernelspec": {
   "display_name": ".venv",
   "language": "python",
   "name": "python3"
  },
  "language_info": {
   "codemirror_mode": {
    "name": "ipython",
    "version": 3
   },
   "file_extension": ".py",
   "mimetype": "text/x-python",
   "name": "python",
   "nbconvert_exporter": "python",
   "pygments_lexer": "ipython3",
   "version": "3.13.0"
  }
 },
 "nbformat": 4,
 "nbformat_minor": 2
}
