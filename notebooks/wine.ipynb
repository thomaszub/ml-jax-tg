{
 "cells": [
  {
   "cell_type": "code",
   "execution_count": 1,
   "metadata": {},
   "outputs": [],
   "source": [
    "import jax\n",
    "import jax.numpy as jnp\n",
    "import equinox as eqx\n",
    "import optax\n",
    "import pandas as pd\n",
    "import random"
   ]
  },
  {
   "cell_type": "code",
   "execution_count": 13,
   "metadata": {},
   "outputs": [],
   "source": [
    "def split_to_inputs_and_labels(data):\n",
    "    return data[:, 1:], data[:, 0]\n",
    "\n",
    "\n",
    "def labels_to_array(data):\n",
    "    return jnp.array(\n",
    "        list(map(lambda x: [x == 1.0, x == 2.0, x == 3.0], data)), dtype=float\n",
    "    )\n",
    "\n",
    "\n",
    "df = pd.read_csv(\n",
    "    \"../data/wine/wine.data\",\n",
    "    header=None,\n",
    "    index_col=None,\n",
    "    names=[\n",
    "        \"Label\",\n",
    "        \"Alcohol\",\n",
    "        \"Malic acid\",\n",
    "        \"Ash\",\n",
    "        \"Alcalinity of ash\",\n",
    "        \"Magnesium\",\n",
    "        \"Total phenols\",\n",
    "        \"Flavanoids\",\n",
    "        \"Nonflavanoid phenols\",\n",
    "        \"Proanthocyanins\",\n",
    "        \"Color intensity\",\n",
    "        \"Hue\",\n",
    "        \"OD280/OD315 of diluted wines\",\n",
    "        \"Proline\",\n",
    "    ],\n",
    ")\n",
    "\n",
    "data = df.to_numpy()\n",
    "shuffled = jax.random.permutation(jax.random.PRNGKey(42), data)\n",
    "\n",
    "testdata_size = int(0.15 * len(shuffled))\n",
    "inputs_train, labels_train_raw = split_to_inputs_and_labels(shuffled[testdata_size:])\n",
    "labels_train = labels_to_array(labels_train_raw)\n",
    "inputs_test, labels_test_raw = split_to_inputs_and_labels(shuffled[:testdata_size])\n",
    "labels_test = labels_to_array(labels_test_raw)"
   ]
  },
  {
   "cell_type": "code",
   "execution_count": 14,
   "metadata": {},
   "outputs": [],
   "source": [
    "class Classifier(eqx.Module):\n",
    "    linear: eqx.Module\n",
    "\n",
    "    def __init__(self, input_size, output_size, key):\n",
    "        self.linear = eqx.nn.Linear(input_size, output_size, key=key)\n",
    "\n",
    "    def __call__(self, x):\n",
    "        return self.linear(x)\n",
    "\n",
    "    def probs(self, x):\n",
    "        return jax.nn.softmax(self(x))"
   ]
  },
  {
   "cell_type": "code",
   "execution_count": 21,
   "metadata": {},
   "outputs": [],
   "source": [
    "model = Classifier(13, 3, jax.random.PRNGKey(43))\n",
    "optim = optax.adamw(0.01)\n",
    "optim.init(model)\n",
    "\n",
    "\n",
    "def loss_fn(model, x, y):\n",
    "    pred = jax.vmap(model)(x)\n",
    "    return optax.losses.softmax_cross_entropy(pred, y)\n",
    "\n",
    "\n",
    "def make_step(model, features, labels):\n",
    "    loss_value, grads = jax.value_and_grad(loss_fn)(model, features, labels)\n",
    "    print(f\"loss: {loss_value}\")"
   ]
  }
 ],
 "metadata": {
  "kernelspec": {
   "display_name": ".venv",
   "language": "python",
   "name": "python3"
  },
  "language_info": {
   "codemirror_mode": {
    "name": "ipython",
    "version": 3
   },
   "file_extension": ".py",
   "mimetype": "text/x-python",
   "name": "python",
   "nbconvert_exporter": "python",
   "pygments_lexer": "ipython3",
   "version": "3.12.4"
  }
 },
 "nbformat": 4,
 "nbformat_minor": 2
}
